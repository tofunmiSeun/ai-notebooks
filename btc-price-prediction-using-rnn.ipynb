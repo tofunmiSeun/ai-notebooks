{
 "cells": [
  {
   "attachments": {},
   "cell_type": "markdown",
   "metadata": {},
   "source": [
    "Download historical daily BTC/USD prices "
   ]
  },
  {
   "cell_type": "code",
   "execution_count": 96,
   "metadata": {},
   "outputs": [],
   "source": [
    "import requests\n",
    "from dotenv import load_dotenv\n",
    "import os\n",
    "\n",
    "load_dotenv()\n",
    "api_key = os.environ['ALHPA_AVANTAGE_API_KEY']\n",
    "url = 'https://www.alphavantage.co/query?function=DIGITAL_CURRENCY_DAILY&symbol=BTC&market=USD&apikey={}'.format(api_key)\n",
    "r = requests.get(url)\n",
    "data = r.json()"
   ]
  },
  {
   "cell_type": "code",
   "execution_count": 97,
   "metadata": {},
   "outputs": [
    {
     "data": {
      "text/plain": [
       "'We got 1000 data points'"
      ]
     },
     "execution_count": 97,
     "metadata": {},
     "output_type": "execute_result"
    }
   ],
   "source": [
    "daily_data = data['Time Series (Digital Currency Daily)']\n",
    "closing_prices = []\n",
    "for day in daily_data.keys():\n",
    "    closing_price = round(float(daily_data[day]['4b. close (USD)']), 2)\n",
    "    closing_prices.append(closing_price)\n",
    "\n",
    "\"We got {} data points\".format(len(closing_prices))"
   ]
  },
  {
   "attachments": {},
   "cell_type": "markdown",
   "metadata": {},
   "source": [
    "Split dataset into batches of 5 sequential price points"
   ]
  },
  {
   "cell_type": "code",
   "execution_count": 98,
   "metadata": {},
   "outputs": [],
   "source": [
    "time_steps = 5"
   ]
  },
  {
   "cell_type": "code",
   "execution_count": 99,
   "metadata": {},
   "outputs": [],
   "source": [
    "chunks = [closing_prices[x:x+time_steps] for x in range(0, len(closing_prices), time_steps)]\n",
    "train_test_split_index = int(0.8 * len(chunks))"
   ]
  },
  {
   "attachments": {},
   "cell_type": "markdown",
   "metadata": {},
   "source": [
    "Prepare training and test data"
   ]
  },
  {
   "cell_type": "code",
   "execution_count": 100,
   "metadata": {},
   "outputs": [
    {
     "data": {
      "text/plain": [
       "(160,\n",
       " [23248.86, 23141.57, 23492.09, 23554.85, 23157.07],\n",
       " 40,\n",
       " [22719.71, 23455.52, 23821.61, 23107.39, 22797.16])"
      ]
     },
     "execution_count": 100,
     "metadata": {},
     "output_type": "execute_result"
    }
   ],
   "source": [
    "training_data = chunks[0:train_test_split_index]\n",
    "test_data = chunks[train_test_split_index:]\n",
    "len(training_data), training_data[0], len(test_data), test_data[0]\n"
   ]
  },
  {
   "attachments": {},
   "cell_type": "markdown",
   "metadata": {},
   "source": [
    "Turn training and test data into pytorch tensors"
   ]
  },
  {
   "cell_type": "code",
   "execution_count": 101,
   "metadata": {},
   "outputs": [],
   "source": [
    "import torch\n",
    "import torch.nn as nn"
   ]
  },
  {
   "attachments": {},
   "cell_type": "markdown",
   "metadata": {},
   "source": [
    "Here, I decided to divide the amounts in the train and test data by 10000 to mitigate the [exploding gradient problem](https://www.educative.io/answers/what-is-exploding-gradient-problem) encountred during training"
   ]
  },
  {
   "cell_type": "code",
   "execution_count": 102,
   "metadata": {},
   "outputs": [
    {
     "data": {
      "text/plain": [
       "(torch.Size([160, 5]), torch.Size([40, 5]))"
      ]
     },
     "execution_count": 102,
     "metadata": {},
     "output_type": "execute_result"
    }
   ],
   "source": [
    "COMMON_DIVISOR = 10000\n",
    "train = torch.Tensor(training_data) / COMMON_DIVISOR\n",
    "test = torch.Tensor(test_data) / COMMON_DIVISOR\n",
    "train.shape, test.shape"
   ]
  },
  {
   "cell_type": "code",
   "execution_count": 103,
   "metadata": {},
   "outputs": [],
   "source": [
    "input_to_output = nn.Linear(1 + time_steps, 1)\n",
    "input_to_hidden = nn.Linear(1 + time_steps, time_steps)"
   ]
  },
  {
   "attachments": {},
   "cell_type": "markdown",
   "metadata": {},
   "source": [
    "Feed forward operation"
   ]
  },
  {
   "cell_type": "code",
   "execution_count": 104,
   "metadata": {},
   "outputs": [],
   "source": [
    "def forward(input, hidden):\n",
    "    combined_input = torch.cat((input, hidden), 1)\n",
    "    output = input_to_output(combined_input)\n",
    "    new_hidden = input_to_hidden(combined_input)\n",
    "    return output, new_hidden"
   ]
  },
  {
   "cell_type": "code",
   "execution_count": 105,
   "metadata": {},
   "outputs": [
    {
     "name": "stdout",
     "output_type": "stream",
     "text": [
      "tensor([[-0.2245]], grad_fn=<AddmmBackward0>)\n"
     ]
    }
   ],
   "source": [
    "hidden = torch.zeros(1, time_steps)\n",
    "for i in range(0, time_steps):\n",
    "    input = train[0][i:i+1].unsqueeze(1)\n",
    "    output, hidden = forward(input, hidden)\n",
    "print(output)"
   ]
  },
  {
   "attachments": {},
   "cell_type": "markdown",
   "metadata": {},
   "source": [
    "Train the model in randomized batches in one epoch"
   ]
  },
  {
   "cell_type": "code",
   "execution_count": 106,
   "metadata": {},
   "outputs": [],
   "source": [
    "batch_size = 20\n",
    "learning_rate = 0.01\n",
    "mse = nn.MSELoss()\n",
    "\n",
    "def run_epoch(input_to_output, input_to_hidden):\n",
    "    randomized_training_indices = torch.randperm(train.shape[0])\n",
    "    losses = []\n",
    "    # for each training batch\n",
    "    for new_batch_start in range(0, len(randomized_training_indices), batch_size):\n",
    "        batch_indices = [randomized_training_indices[x].item() for x in range(new_batch_start, new_batch_start+batch_size)]\n",
    "        \n",
    "        predictions = torch.zeros(len(batch_indices))\n",
    "        outputs = torch.zeros(len(batch_indices))\n",
    "        index = 0\n",
    "\n",
    "        input_to_hidden.zero_grad()\n",
    "        input_to_output.zero_grad()\n",
    "    \n",
    "        # for training data in batch\n",
    "        for batch_index in batch_indices:\n",
    "\n",
    "            hidden = torch.zeros(1, time_steps)\n",
    "            single_train_data = train[batch_index]\n",
    "            prediction = 0\n",
    "            # for each time step\n",
    "            for step in range(0, len(single_train_data - 1)):\n",
    "                input = single_train_data[step:step+1].unsqueeze(1)\n",
    "                prediction, hidden = forward(input, hidden)          \n",
    "            \n",
    "            actual = single_train_data[-1]\n",
    "            predictions[index] = prediction\n",
    "            outputs[index] = actual\n",
    "            index += 1\n",
    "        \n",
    "        # calculate error\n",
    "        loss = mse(predictions, outputs)\n",
    "        losses.append(loss.item())\n",
    "\n",
    "        # back propagation to adjust weights\n",
    "        loss.backward()\n",
    "        for p in input_to_hidden.parameters():\n",
    "            p.data.add_(p.grad.data, alpha=-learning_rate)\n",
    "        input_to_hidden.grad = None\n",
    "\n",
    "        for p in input_to_output.parameters():\n",
    "            p.data.add_(p.grad.data, alpha=-learning_rate)\n",
    "        input_to_output.grad = None\n",
    "    \n",
    "    return sum(losses)/ len(losses)"
   ]
  },
  {
   "cell_type": "code",
   "execution_count": 125,
   "metadata": {},
   "outputs": [],
   "source": [
    "input_to_output = nn.Linear(1 + time_steps, 1)\n",
    "input_to_hidden = nn.Linear(1 + time_steps, time_steps)\n",
    "avg_losses = []\n",
    "for i in range(0, 201):\n",
    "    avg_loss = run_epoch(input_to_output, input_to_hidden)\n",
    "    avg_losses.append(avg_loss)"
   ]
  },
  {
   "attachments": {},
   "cell_type": "markdown",
   "metadata": {},
   "source": [
    "Plot the averafge loss per epoch over time"
   ]
  },
  {
   "cell_type": "code",
   "execution_count": 124,
   "metadata": {},
   "outputs": [
    {
     "data": {
      "image/png": "[encoded data removed]",
      "text/plain": [
       "<Figure size 640x480 with 1 Axes>"
      ]
     },
     "metadata": {},
     "output_type": "display_data"
    }
   ],
   "source": [
    "import numpy as np\n",
    "import matplotlib.pyplot as plt\n",
    "\n",
    "x = np.arange(0, len(avg_losses))\n",
    "y = np.array(avg_losses)\n",
    "\n",
    "# plotting\n",
    "plt.title(\"Avg Loss\")\n",
    "plt.xlabel(\"Epoch\")\n",
    "plt.ylabel(\"Loss\")\n",
    "plt.plot(x, y)\n",
    "plt.show()"
   ]
  },
  {
   "attachments": {},
   "cell_type": "markdown",
   "metadata": {},
   "source": [
    "Check prediction on test data"
   ]
  },
  {
   "cell_type": "code",
   "execution_count": 127,
   "metadata": {},
   "outputs": [
    {
     "name": "stdout",
     "output_type": "stream",
     "text": [
      "input: tensor([22719.7090, 23455.5195, 23821.6094, 23107.3906]), prediction: 23185.07671356201, actual: 22797.160148620605, % error=1.702\n",
      "input: tensor([21335.5176, 19426.4297, 19273.1406, 19174.9902]), prediction: 19304.778575897217, actual: 18808.68911743164, % error=2.638\n",
      "input: tensor([18036.5293, 18254.6309, 18541.2793, 18324.1094]), prediction: 18369.605541229248, actual: 19166.899919509888, % error=-4.16\n",
      "input: tensor([19359.4004, 19147.6602, 18650.5195, 19421.9004]), prediction: 19321.632385253906, actual: 19204.089641571045, % error=0.612\n",
      "input: tensor([18764.9609, 19695.8691, 18184.9902, 17719.8496]), prediction: 18001.924753189087, actual: 17139.519453048706, % error=5.032\n",
      "input: tensor([17149.4707, 18719.1094, 19160.0098, 18368.0000]), prediction: 18484.123945236206, actual: 18414.429426193237, % error=0.378\n",
      "input: tensor([18703.8008, 18655.6699, 17802.8203, 17776.1191]), prediction: 17916.901111602783, actual: 17659.380435943604, % error=1.458\n",
      "input: tensor([16713.5703, 15957.0000, 16070.4502, 16320.7002]), prediction: 16333.50133895874, actual: 16291.860342025757, % error=0.256\n",
      "input: tensor([15684.2402, 15297.2100, 15328.4102, 15475.0986]), prediction: 15518.549680709839, actual: 14818.300008773804, % error=4.726\n",
      "input: tensor([15579.9199, 15590.0195, 14144.0098, 14023.5303]), prediction: 14294.562339782715, actual: 13549.36957359314, % error=5.5\n",
      "input: tensor([13761.5000, 13791.0000, 13560.0996, 13455.6992]), prediction: 13596.761226654053, actual: 13266.40009880066, % error=2.49\n",
      "input: tensor([13636.1699, 13052.1904, 13028.8301, 13111.7305]), prediction: 13211.7760181427, actual: 12923.070192337036, % error=2.234\n",
      "input: tensor([12968.5195, 12780.9600, 11909.9902, 11751.4697]), prediction: 12003.347873687744, actual: 11503.139734268188, % error=4.348\n",
      "input: tensor([11360.2002, 11319.3203, 11505.1201, 11417.8896]), prediction: 11536.723375320435, actual: 11420.559883117676, % error=1.017\n",
      "input: tensor([11528.2500, 11369.0195, 11293.2197, 11050.6387]), prediction: 11243.199110031128, actual: 10925.570726394653, % error=2.907\n",
      "input: tensor([10666.3896, 10599.6602, 10792.2100, 10666.6299]), prediction: 10803.79605293274, actual: 10542.060136795044, % error=2.483\n",
      "input: tensor([10570.4014, 10619.1299, 10776.5898, 10840.4805]), prediction: 10930.65619468689, actual: 10696.120262145996, % error=2.193\n",
      "input: tensor([10774.2500, 10728.5996, 10686.6689, 10736.3203]), prediction: 10856.157541275024, actual: 10241.459608078003, % error=6.002\n",
      "input: tensor([10529.6104, 10417.2197, 10920.2803, 11080.6504]), prediction: 11113.181114196777, actual: 10933.389663696289, % error=1.644\n",
      "input: tensor([10939.9902, 10954.0098, 10785.3086, 10671.7695]), prediction: 10842.559337615967, actual: 10332.82995223999, % error=4.933\n",
      "input: tensor([10440.9189, 10387.8887, 10336.8701, 10219.1992]), prediction: 10385.992527008057, actual: 10126.650333404541, % error=2.561\n",
      "input: tensor([10373.4414, 10256.2002, 10166.6904, 10446.2500]), prediction: 10523.135662078857, actual: 10140.849351882935, % error=3.77\n",
      "input: tensor([11388.5400, 11921.9697, 11649.5098, 11711.1602]), prediction: 11821.104288101196, actual: 11465.840339660645, % error=3.098\n",
      "input: tensor([11526.9102, 11330.3809, 11461.4297, 11318.4199]), prediction: 11463.038921356201, actual: 11748.20065498352, % error=-2.427\n",
      "input: tensor([11648.1309, 11662.9600, 11531.3398, 11853.5498]), prediction: 11903.243064880371, actual: 11754.590272903442, % error=1.265\n",
      "input: tensor([11945.0088, 12281.1289, 11911.0000, 11852.4004]), prediction: 12006.537914276123, actual: 11760.540008544922, % error=2.092\n",
      "input: tensor([11780.0000, 11564.3301, 11392.0801, 11892.9199]), prediction: 11912.567615509033, actual: 11681.679487228394, % error=1.976\n",
      "input: tensor([11761.4102, 11594.2295, 11762.4609, 11744.9102]), prediction: 11849.70498085022, actual: 11191.970109939575, % error=5.877\n",
      "input: tensor([11219.8086, 11071.3496, 11801.1699, 11335.4600]), prediction: 11488.981246948242, actual: 11099.610328674316, % error=3.508\n",
      "input: tensor([11100.5303, 10906.2695, 11029.9600,  9931.5400]), prediction: 10318.85027885437, actual: 9700.419902801514, % error=6.375\n",
      "input: tensor([9537.7998, 9603.2695, 9518.1602, 9390.0000]), prediction: 9568.885564804077, actual: 9160.780310630798, % error=4.455\n",
      "input: tensor([9208.9902, 9170.2803, 9154.3203, 9133.7197]), prediction: 9286.498427391052, actual: 9197.5998878479, % error=0.967\n",
      "input: tensor([9255.8496, 9242.6201, 9302.7500, 9234.0303]), prediction: 9387.743473052979, actual: 9288.339614868164, % error=1.07\n",
      "input: tensor([9232.4297, 9436.0596, 9257.3896, 9344.2002]), prediction: 9478.327631950378, actual: 9069.409966468811, % error=4.509\n",
      "input: tensor([9135.4600, 9058.2598, 9086.5400, 9232.0000]), prediction: 9340.987801551819, actual: 9138.54956626892, % error=2.215\n",
      "input: tensor([9192.5596, 9116.3496, 9012.0000, 9162.2100]), prediction: 9285.342693328857, actual: 9249.49049949646, % error=0.388\n",
      "input: tensor([9296.4902, 9624.8896, 9685.6904, 9294.6904]), prediction: 9511.531591415405, actual: 9358.95025730133, % error=1.63\n",
      "input: tensor([9310.2305, 9386.3203, 9465.1396, 9525.5898]), prediction: 9640.151262283325, actual: 9426.019787788391, % error=2.272\n",
      "input: tensor([9342.0996, 9473.3398, 9465.1299, 9280.4004]), prediction: 9463.257193565369, actual: 9884.999990463257, % error=-4.266\n",
      "input: tensor([9772.4297, 9782.0098, 9746.9902, 9666.2998]), prediction: 9827.150106430054, actual: 9621.16003036499, % error=2.141\n"
     ]
    }
   ],
   "source": [
    "for i in range(0, test.shape[0]):\n",
    "    single_test_data = torch.clone(test[i])\n",
    "    x = single_test_data[0:len(single_test_data) - 1]\n",
    "\n",
    "    hidden = torch.zeros(1, time_steps)\n",
    "    prediction = 0\n",
    "    # for each time step\n",
    "    for item in x:\n",
    "        input = torch.Tensor([item]).unsqueeze(1)\n",
    "        prediction, hidden = forward(input, hidden)          \n",
    "    \n",
    "    x *= COMMON_DIVISOR\n",
    "    prediction = prediction.item() * COMMON_DIVISOR\n",
    "    actual = single_test_data[-1].item() * COMMON_DIVISOR\n",
    "    percentage_error = round(((prediction - actual) * 100) / actual, 3)\n",
    "    print(\"input: {}, prediction: {}, actual: {}, % error={}\".format(x, prediction, actual, percentage_error))"
   ]
  }
 ],
 "metadata": {
  "kernelspec": {
   "display_name": ".venv",
   "language": "python",
   "name": "python3"
  },
  "language_info": {
   "codemirror_mode": {
    "name": "ipython",
    "version": 3
   },
   "file_extension": ".py",
   "mimetype": "text/x-python",
   "name": "python",
   "nbconvert_exporter": "python",
   "pygments_lexer": "ipython3",
   "version": "3.9.6"
  },
  "orig_nbformat": 4,
  "vscode": {
   "interpreter": {
    "hash": "12b84d27cf94b059d9386ef0e125d5acfb36035007af7d95356a9eda8a09a0a6"
   }
  }
 },
 "nbformat": 4,
 "nbformat_minor": 2
}
