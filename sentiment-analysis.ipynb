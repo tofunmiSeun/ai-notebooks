{
 "cells": [
  {
   "attachments": {},
   "cell_type": "markdown",
   "metadata": {},
   "source": [
    "# Sentiment analysis using recurrent neural networks\n",
    "One of the things I find fascinating about applying machine learning algorithms to natural language processing tasks is how you get get a bunch of words that actually mean something, convert them to [a bunch of numbers](), and the computer is able to understand what those numbers represent in the vocabulary of the NLP task at hand.\n",
    "\n",
    "In this notebook, I will use a [recurrent neural network]() to perform [sentiment analysis]() on a given dataset."
   ]
  },
  {
   "attachments": {},
   "cell_type": "markdown",
   "metadata": {},
   "source": [
    "### Recurrent neural networks\n",
    "Recurrent neural networks (RNNs) are suitable for deep learning tasks that take in a sequence of data as input. The individual data in the sequence usually tell a complete story as a whole but may not offer meaningful information standalone. Also, the number of elements in the sequence of data do not need to be fixed for a given ML task as RNNs are very flexible in dealing with variable sizes of input.\n",
    "\n",
    "Good examples of tasks suitable for RNNs are:\n",
    "1. Predicting the price of a stock based on its prices in the last 30 days.\n",
    "2. Predicting the next word in a sentence given preceeding words.\n",
    "3. Speech to text translation"
   ]
  },
  {
   "attachments": {},
   "cell_type": "markdown",
   "metadata": {},
   "source": [
    "### The task at hand\n",
    "Human beings routinely express their pleasure (or displeasure) about particular experiences. It could be whether a movie you watched was good (or not), if your commute to work was pleasant or stressful, if you enjoyed your lunch or if you had a tedious experience getting an insurance company to honour your claim. The question to answer here is \"based on what this person said, do they feel good or feel bad about their experience?\"\n",
    "\n",
    "The goal of sentiment analysis in NLP is to enable a machine answer this question. For example, you want a machine to be able to look at the following sentence\n",
    "\n",
    "> I really enjoyed playing FIFA today\n",
    "\n",
    "and indicate that the user \"felt good\" (or \"felt bad\" or did not feel anything at all) about this.\n",
    "\n",
    "<img src=\"https://vitalflux.com/wp-content/uploads/2021/10/sentiment-analysis-machine-learning-techniques.png\" alt=\"Sentiment analysis\" style=\"width: 500px;\"/>\n"
   ]
  },
  {
   "attachments": {},
   "cell_type": "markdown",
   "metadata": {},
   "source": [
    "### Dataset\n",
    "The [Twitter US airline sentiment](https://www.kaggle.com/datasets/crowdflower/twitter-airline-sentiment?resource=download) dataset will be used for this task."
   ]
  },
  {
   "cell_type": "code",
   "execution_count": 117,
   "metadata": {},
   "outputs": [
    {
     "name": "stdout",
     "output_type": "stream",
     "text": [
      "14640 inputs in the dataset, with categories={'positive', 'neutral', 'negative'}\n"
     ]
    },
    {
     "data": {
      "text/plain": [
       "['@VirginAmerica What @dhepburn said.',\n",
       " \"@VirginAmerica plus you've added commercials to the experience... tacky.\",\n",
       " \"@VirginAmerica I didn't today... Must mean I need to take another trip!\",\n",
       " '@VirginAmerica it\\'s really aggressive to blast obnoxious \"entertainment\" in your guests\\' faces & they have little recourse',\n",
       " \"@VirginAmerica and it's a really big bad thing about it\"]"
      ]
     },
     "execution_count": 117,
     "metadata": {},
     "output_type": "execute_result"
    }
   ],
   "source": [
    "import csv\n",
    "import html\n",
    "\n",
    "csv_file = open(\"twitter-us-airline-sentiment.csv\")\n",
    "csvreader = csv.reader(csv_file)\n",
    "\n",
    "headers = []\n",
    "headers = next(csvreader)\n",
    "\n",
    "sentiment_index = headers.index(\"airline_sentiment\")\n",
    "tweet_index = headers.index(\"text\")\n",
    "\n",
    "inputs = []\n",
    "categories = []\n",
    "data = []\n",
    "for row in csvreader:\n",
    "    sentiment = row[sentiment_index]\n",
    "    text = html.unescape(row[tweet_index])\n",
    "    inputs.append(text)\n",
    "    categories.append(sentiment)\n",
    "\n",
    "print(\"{} inputs in the dataset, with categories={}\".format(len(inputs), set(categories)))\n",
    "inputs[0:5]"
   ]
  },
  {
   "attachments": {},
   "cell_type": "markdown",
   "metadata": {},
   "source": [
    "Split data into training / test data"
   ]
  },
  {
   "cell_type": "code",
   "execution_count": 118,
   "metadata": {},
   "outputs": [],
   "source": [
    "from torch.utils.data import random_split\n",
    "\n",
    "total_dataset_count = len(inputs)\n",
    "train_indices, test_indices = random_split(range(total_dataset_count), [0.7, 0.3])\n",
    "\n",
    "train_X, train_Y = [inputs[idx] for idx in train_indices],  [categories[idx] for idx in train_indices]\n",
    "test_X, test_Y = [inputs[idx] for idx in test_indices],  [categories[idx] for idx in test_indices]"
   ]
  },
  {
   "attachments": {},
   "cell_type": "markdown",
   "metadata": {},
   "source": [
    "Print out some data samples in tabular form"
   ]
  },
  {
   "cell_type": "code",
   "execution_count": 119,
   "metadata": {},
   "outputs": [
    {
     "name": "stdout",
     "output_type": "stream",
     "text": [
      "+----------------------------------------------------+-----------+\n",
      "| Train X                                            | Train Y   |\n",
      "+====================================================+===========+\n",
      "| @united yes. On a nonstop to Memphis tomorrow      | neutral   |\n",
      "| morning. With the snow coming in I got my fingers  |           |\n",
      "| crossed it will go.                                |           |\n",
      "+----------------------------------------------------+-----------+\n",
      "| @SouthwestAir could u put one here in Baltimore?   | neutral   |\n",
      "| http://t.co/vLCI2KV1IP                             |           |\n",
      "+----------------------------------------------------+-----------+\n",
      "| @united thanks for the reply.  If you can get me a | positive  |\n",
      "| better seat on my next leg to Munich. That would   |           |\n",
      "| be nice.                                           |           |\n",
      "+----------------------------------------------------+-----------+\n",
      "+----------------------------------------------------+----------+\n",
      "| Test X                                             | Test Y   |\n",
      "+====================================================+==========+\n",
      "| @USAirways Expedia reserved a ticket for me and 2  | neutral  |\n",
      "| more for a USAW flight but only issued 1. They are |          |\n",
      "| not responsive.Thoughts?                           |          |\n",
      "+----------------------------------------------------+----------+\n",
      "| @SouthwestAir okay thank you :), also I did get a  | neutral  |\n",
      "| tweet earlier about 1.5 hrs ago saying I won &     |          |\n",
      "| should send a DM but then it was deleted?          |          |\n",
      "+----------------------------------------------------+----------+\n",
      "| @AmericanAir thank you!                            | positive |\n",
      "+----------------------------------------------------+----------+\n"
     ]
    }
   ],
   "source": [
    "from tabulate import tabulate\n",
    "\n",
    "def print_in_tabular_form(headers, body): \n",
    "    entry_count = len(body[0])\n",
    "    col_count = len(headers)\n",
    "    tabular_data = [[column[index] for column in body] for index in range(entry_count)]\n",
    "    print(tabulate(tabular_data, headers=headers, tablefmt=\"grid\", maxcolwidths=[100 / col_count for idx in range(col_count)]))\n",
    "\n",
    "print_in_tabular_form([\"Train X\", \"Train Y\"], [train_X[0:3], train_Y[0:3]])\n",
    "print_in_tabular_form([\"Test X\", \"Test Y\"], [test_X[0:3], test_Y[0:3]])"
   ]
  },
  {
   "attachments": {},
   "cell_type": "markdown",
   "metadata": {},
   "source": [
    "Pytorch provides the `Dataset` and `Dataloader` classes that we can customize to help us load data in batches"
   ]
  },
  {
   "cell_type": "code",
   "execution_count": 120,
   "metadata": {},
   "outputs": [],
   "source": [
    "from torch.utils.data import Dataset, DataLoader\n",
    "\n",
    "class CustomDataset(Dataset):\n",
    "    def __init__(self, X, y):\n",
    "        self.X = X\n",
    "        self.y = y\n",
    "\n",
    "    def __len__(self):\n",
    "        return len(self.X)\n",
    "    \n",
    "    def __getitem__(self, index):\n",
    "        return self.X[index], self.y[index]\n",
    "\n",
    "def get_training_and_test_dataloaders(X, y, training_data_porpotion=0.7, batch_size=10):\n",
    "    total_dataset_count = len(X)\n",
    "    train_indices, test_indices = random_split(range(total_dataset_count), [training_data_porpotion, 1 - training_data_porpotion])\n",
    "\n",
    "    train_X, train_Y = [X[idx] for idx in train_indices],  [y[idx] for idx in train_indices]\n",
    "    test_X, test_Y = [X[idx] for idx in test_indices],  [y[idx] for idx in test_indices]\n",
    "\n",
    "    training_dataset = CustomDataset(train_X, train_Y)\n",
    "    test_dataset = CustomDataset(test_X, test_Y)\n",
    "\n",
    "    training_dataloader = DataLoader(training_dataset, batch_size=batch_size, shuffle=True)\n",
    "    test_dataloader = DataLoader(test_dataset, batch_size=batch_size, shuffle=False)\n",
    "\n",
    "    return training_dataloader, test_dataloader\n",
    "\n",
    "training_loader, test_loader = get_training_and_test_dataloaders(inputs, categories, batch_size=5)"
   ]
  },
  {
   "attachments": {},
   "cell_type": "markdown",
   "metadata": {},
   "source": [
    "A batch of data looks like this"
   ]
  },
  {
   "cell_type": "code",
   "execution_count": 121,
   "metadata": {},
   "outputs": [
    {
     "data": {
      "text/plain": [
       "[('@JetBlue People kept saying it was due to weather but there were flights going directly to boston even after our flight.',\n",
       "  \"@JetBlue Thank you for the reply. Would've appreciated communication before checking in about the delay. JetBlue used to be my go-to\",\n",
       "  '@JetBlue Found someone to ask. No answers. Landed almost 40 minutes ago.',\n",
       "  '@united #customerservice at @Dulles_Airport could not be worse. I get the bad weather, but this is awful.',\n",
       "  '@AmericanAir ask the 10 people you left behind at Miami airport because you guys could not wait 5 minutes and ... http://t.co/XPM98Igqjn'),\n",
       " ('negative', 'negative', 'negative', 'negative', 'negative')]"
      ]
     },
     "execution_count": 121,
     "metadata": {},
     "output_type": "execute_result"
    }
   ],
   "source": [
    "next(iter(training_loader))"
   ]
  },
  {
   "attachments": {},
   "cell_type": "markdown",
   "metadata": {},
   "source": [
    "### Data pre-processing in NLP"
   ]
  },
  {
   "attachments": {},
   "cell_type": "markdown",
   "metadata": {},
   "source": [
    "Before we get to the part where we convert a piece of text into \"a bunch of numbers\", we need to make sure our text data is transformed to contain only useful information/signals that are relevant for the task at hand. "
   ]
  },
  {
   "attachments": {},
   "cell_type": "markdown",
   "metadata": {},
   "source": [
    "#### Data cleaning"
   ]
  },
  {
   "attachments": {},
   "cell_type": "markdown",
   "metadata": {},
   "source": [
    "All of the transformation / pre-processing steps applied to raw text data to make it suitable NLP tasks is generally known as **data cleaning**.\n",
    "\n",
    "The combination of data cleaning techniques to apply usually depend on the task at hand. One thing ML engineers like to do is experiment to find what set of steps give the best performance for a given NLP model. "
   ]
  },
  {
   "attachments": {},
   "cell_type": "markdown",
   "metadata": {},
   "source": [
    "#### Transforming our input data"
   ]
  },
  {
   "attachments": {},
   "cell_type": "markdown",
   "metadata": {},
   "source": [
    "From inspecting the a subset of the input data, I want to perform the following data transformation steps\n",
    "1. Transform all words to lower cases\n",
    "2. Remove some parts of the input text\n",
    "    1. Handles - (words that begin with \"@\")\n",
    "    2. Links\n",
    "3. Remove hash symbols in front of words\n",
    "4. Replace known word breaks with spaces\n",
    "5. Removing stop words - I am using the `spacy` NLP library to remove common occuring stop words.\n"
   ]
  },
  {
   "cell_type": "code",
   "execution_count": 122,
   "metadata": {},
   "outputs": [],
   "source": [
    "from spacy.lang.en.stop_words import STOP_WORDS\n",
    "\n",
    "\n",
    "def replace_known_word_breaks(text):\n",
    "    return text.replace(\"...\", \", \").replace(\"\\n\", \" \")\n",
    "\n",
    "def transform_raw_data(text):\n",
    "    text = text.lower()\n",
    "\n",
    "    text = replace_known_word_breaks(text)\n",
    "\n",
    "    processed = []\n",
    "    for word in text.split():\n",
    "        if word.startswith('@') or word.startswith('http'):\n",
    "            continue\n",
    "\n",
    "        if word in STOP_WORDS:\n",
    "            continue\n",
    "\n",
    "        if word.startswith('#'):\n",
    "            word = word[1:]\n",
    "\n",
    "        processed.append(word)\n",
    "\n",
    "    return \" \".join(processed)\n"
   ]
  },
  {
   "attachments": {},
   "cell_type": "markdown",
   "metadata": {},
   "source": [
    "Let's test our transformation"
   ]
  },
  {
   "cell_type": "code",
   "execution_count": 123,
   "metadata": {},
   "outputs": [
    {
     "name": "stdout",
     "output_type": "stream",
     "text": [
      "+----------------------------------------------------+----------------------------------------------------+\n",
      "| Original                                           | Transformed                                        |\n",
      "+====================================================+====================================================+\n",
      "| @AmericanAir Telling frustrated customers \"we are  | telling frustrated customers \"we super busy, late  |\n",
      "| super busy, please call back Late Flightr kthxbai\" | flightr kthxbai\" hanging best practice.            |\n",
      "| and then hanging up is not the best practice.      |                                                    |\n",
      "+----------------------------------------------------+----------------------------------------------------+\n",
      "| @united strikes again! Why board anyone if there's | strikes again! board there's wrong plane? common   |\n",
      "| something wrong with the plane? Common sense.      | sense.                                             |\n",
      "+----------------------------------------------------+----------------------------------------------------+\n",
      "| @USAirways  thanks I hope I get to my destination  | thanks hope destination                            |\n",
      "+----------------------------------------------------+----------------------------------------------------+\n",
      "| @USAirways still can't get a real person on the    | can't real person phone book flight. ready jetblue |\n",
      "| phone to book a flight. Ready to just go with      | care. usairwayssucks                               |\n",
      "| #jetblue since they care. #usairwayssucks          |                                                    |\n",
      "+----------------------------------------------------+----------------------------------------------------+\n",
      "| @united I'm in Denver, my bag is in San Jose. See  | i'm denver, bag san jose. wrong here.              |\n",
      "| something wrong here.                              |                                                    |\n",
      "+----------------------------------------------------+----------------------------------------------------+\n"
     ]
    }
   ],
   "source": [
    "batch_X, batch_y = next(iter(training_loader))\n",
    "transformed_data = [transform_raw_data(row) for row in batch_X]\n",
    "print_in_tabular_form([\"Original\", \"Transformed\"], [batch_X, transformed_data])"
   ]
  },
  {
   "attachments": {},
   "cell_type": "markdown",
   "metadata": {},
   "source": [
    "#### Vocabularies & Tokenization in NLP"
   ]
  },
  {
   "attachments": {},
   "cell_type": "markdown",
   "metadata": {},
   "source": [
    "Applying one or a combination of data cleaning steps above on our text data moves us closer to being able to feed our dataset into a neural network. Once we manage to clean all of the data we plan to use to train the NLP model (generally refered to as our [text corpus]()), the unique sets of words across the transformed data refers to our **vocabulary**.\n",
    "Due to the high [dimensionality]() of text data, we **rarely feed all** the unique words encountered in our vocabulary to the neural network. We usually choose a poportion of them.\n",
    "\n",
    "One popular way of building a vocabulary is to\n",
    "1. Define how many words or what porpotion of unique words from your text corpus do you want in your vocabulary (let's say the number is represented by **n**).\n",
    "2. Count the occurence of each word in the text corpus and sort from most occuring to least frequently occuring\n",
    "3. Choose the **n** most frequently occuring tokens and use that as your vocabulary.\n",
    "\n",
    "In the example below, I will show how to build a custom vocabulary"
   ]
  },
  {
   "attachments": {},
   "cell_type": "markdown",
   "metadata": {},
   "source": [
    "A piece of text -> A set of tokens (words that may mean something....they are usually present in the vocabulary)\n",
    "1. build vocabulary\n",
    "2. Convert piece to text to set of tokens (using the vocabulary)\n",
    "- A unique set of words that best fit the NLP task you are trying to do.\n",
    "- Vocabulary you need depends on the task at hand\n",
    "- Vocabulary developed is usually gotten from the text corpus\n",
    "- Vocabulary can be inherited\n",
    "- OOV words\n",
    "- Using a sentence example."
   ]
  },
  {
   "attachments": {},
   "cell_type": "markdown",
   "metadata": {},
   "source": [
    "#### Tokenizing the transformations"
   ]
  },
  {
   "cell_type": "code",
   "execution_count": 124,
   "metadata": {},
   "outputs": [
    {
     "name": "stdout",
     "output_type": "stream",
     "text": [
      "13719 unique words\n",
      "+----------------------------------------------------+--------------------------------------------------+\n",
      "| Text                                               | Tokens                                           |\n",
      "+====================================================+==================================================+\n",
      "| telling frustrated customers \"we super busy, late  | [422, 350, 109, 681, 580, 494, 29, 129, 1, 1015, |\n",
      "| flightr kthxbai\" hanging best practice.            | 102, 1]                                          |\n",
      "+----------------------------------------------------+--------------------------------------------------+\n",
      "| strikes again! board there's wrong plane? common   | [1, 89, 204, 388, 334, 14, 1, 725]               |\n",
      "| sense.                                             |                                                  |\n",
      "+----------------------------------------------------+--------------------------------------------------+\n",
      "| thanks hope destination                            | [3, 163, 373]                                    |\n",
      "+----------------------------------------------------+--------------------------------------------------+\n",
      "| can't real person phone book flight. ready jetblue | [18, 408, 209, 27, 113, 2, 597, 66, 144, 1]      |\n",
      "| care. usairwayssucks                               |                                                  |\n",
      "+----------------------------------------------------+--------------------------------------------------+\n",
      "| i'm denver, bag san jose. wrong here.              | [10, 300, 22, 309, 1, 334, 234]                  |\n",
      "+----------------------------------------------------+--------------------------------------------------+\n"
     ]
    }
   ],
   "source": [
    "from keras.preprocessing.text import Tokenizer\n",
    "\n",
    "def build_vocabulary(token_size=2000):\n",
    "    # Create a tokenizer and fit it on the texts\n",
    "    transformed_data = [transform_raw_data(row) for row in inputs]\n",
    "    tokenizer = Tokenizer(num_words=token_size, oov_token='OOV')\n",
    "    tokenizer.fit_on_texts(transformed_data)\n",
    "    return tokenizer\n",
    "\n",
    "tokenizer = build_vocabulary()\n",
    "print(\"{} unique words\".format(len(tokenizer.word_counts)))\n",
    "\n",
    "tokens = tokenizer.texts_to_sequences(transformed_data)\n",
    "print_in_tabular_form([\"Text\", \"Tokens\"], [transformed_data[0:5], tokens[0:5]])"
   ]
  },
  {
   "attachments": {},
   "cell_type": "markdown",
   "metadata": {},
   "source": [
    "Pad the tokens with '0' so the tokens can be represented as a matrix and convert to a tensor."
   ]
  },
  {
   "cell_type": "code",
   "execution_count": 125,
   "metadata": {},
   "outputs": [
    {
     "data": {
      "text/plain": [
       "(torch.Size([5, 12]),\n",
       " tensor([ 422,  350,  109,  681,  580,  494,   29,  129,    1, 1015,  102,    1],\n",
       "        dtype=torch.int32))"
      ]
     },
     "execution_count": 125,
     "metadata": {},
     "output_type": "execute_result"
    }
   ],
   "source": [
    "import torch\n",
    "import tensorflow as tf\n",
    "\n",
    "padded_tokens = torch.Tensor(tf.keras.utils.pad_sequences(tokens, padding='post')).to(torch.int)\n",
    "padded_tokens.shape, padded_tokens[0]"
   ]
  },
  {
   "attachments": {},
   "cell_type": "markdown",
   "metadata": {},
   "source": [
    "Let's create a function to transform a batch of input data to a matrix of padded tokens"
   ]
  },
  {
   "cell_type": "code",
   "execution_count": 147,
   "metadata": {},
   "outputs": [],
   "source": [
    "max_words_count_in_single_dataset = max([len(i.split()) for i in inputs])\n",
    "\n",
    "def raw_data_to_tokens(batch_of_X, tokenizer, max_token_length = 20, print_transformations=True):\n",
    "    transformed_data = [transform_raw_data(row) for row in batch_of_X]\n",
    "    tokens = tokenizer.texts_to_sequences(transformed_data)\n",
    "    padded_tokens = tf.keras.utils.pad_sequences(tokens, maxlen=max_token_length, padding='post')\n",
    "    if print_transformations:\n",
    "        print_in_tabular_form([\"Raw Text\", \"Transformed\", \"Tokens\", \"Padded Tokens\"], [batch_of_X, transformed_data, tokens, padded_tokens])\n",
    "    return torch.Tensor(padded_tokens).to(int)"
   ]
  },
  {
   "attachments": {},
   "cell_type": "markdown",
   "metadata": {},
   "source": [
    "Create embedding matrix for all the tokens, including the padding token '0'"
   ]
  },
  {
   "cell_type": "code",
   "execution_count": 127,
   "metadata": {},
   "outputs": [],
   "source": [
    "import torch.nn as nn\n",
    "\n",
    "tokens_count = tokenizer.num_words\n",
    "embedding_size = int(tokens_count ** 0.25)\n",
    "# Adding 1 to token_size to cater for padding value '0'\n",
    "embedding = nn.Embedding(tokens_count + 1, embedding_size)"
   ]
  },
  {
   "attachments": {},
   "cell_type": "markdown",
   "metadata": {},
   "source": [
    "Given a list of tokens, define a function that will return the embeddings of a batch of dataset"
   ]
  },
  {
   "cell_type": "code",
   "execution_count": 128,
   "metadata": {},
   "outputs": [
    {
     "data": {
      "text/plain": [
       "torch.Size([5, 12, 6])"
      ]
     },
     "execution_count": 128,
     "metadata": {},
     "output_type": "execute_result"
    }
   ],
   "source": [
    "embeddings_batch = embedding(padded_tokens)\n",
    "embeddings_batch.shape"
   ]
  },
  {
   "attachments": {},
   "cell_type": "markdown",
   "metadata": {},
   "source": [
    "Define a RNN module"
   ]
  },
  {
   "cell_type": "code",
   "execution_count": 129,
   "metadata": {},
   "outputs": [],
   "source": [
    "hidden_layers = 3\n",
    "rnn = nn.RNN(embedding_size, hidden_layers, batch_first=True)"
   ]
  },
  {
   "cell_type": "code",
   "execution_count": 130,
   "metadata": {},
   "outputs": [
    {
     "data": {
      "text/plain": [
       "torch.Size([5, 12, 3])"
      ]
     },
     "execution_count": 130,
     "metadata": {},
     "output_type": "execute_result"
    }
   ],
   "source": [
    "def compute(rnn, embeddings_batch):\n",
    "    output, hidden_state = rnn(embeddings_batch)\n",
    "    return output\n",
    "\n",
    "rnn_output = compute(rnn, embeddings_batch)\n",
    "rnn_output.shape"
   ]
  },
  {
   "attachments": {},
   "cell_type": "markdown",
   "metadata": {},
   "source": [
    "Flatten the output on the last dimension so we can pass it to a fully connected NN in 2D shape"
   ]
  },
  {
   "cell_type": "code",
   "execution_count": 131,
   "metadata": {},
   "outputs": [
    {
     "data": {
      "text/plain": [
       "torch.Size([5, 36])"
      ]
     },
     "execution_count": 131,
     "metadata": {},
     "output_type": "execute_result"
    }
   ],
   "source": [
    "flattened = torch.flatten(rnn_output, start_dim=1)\n",
    "flattened.shape"
   ]
  },
  {
   "attachments": {},
   "cell_type": "markdown",
   "metadata": {},
   "source": [
    "Define a fully connected NN that takes in the flattened output"
   ]
  },
  {
   "cell_type": "code",
   "execution_count": 132,
   "metadata": {},
   "outputs": [],
   "source": [
    "input_layer_size = hidden_layers * padded_tokens.shape[1]\n",
    "unique_categories = list(set(categories))\n",
    "fully_connected = nn.Linear(input_layer_size,len(unique_categories))"
   ]
  },
  {
   "cell_type": "code",
   "execution_count": 133,
   "metadata": {},
   "outputs": [
    {
     "data": {
      "text/plain": [
       "(torch.Size([5, 3]),\n",
       " tensor([[-0.4901, -0.0652,  0.4319],\n",
       "         [ 0.0841,  0.3365, -0.0782],\n",
       "         [-0.0311,  0.2040,  0.5606],\n",
       "         [-0.5497, -0.2634,  0.1764],\n",
       "         [ 0.3317,  0.1967, -0.0641]], grad_fn=<AddmmBackward0>))"
      ]
     },
     "execution_count": 133,
     "metadata": {},
     "output_type": "execute_result"
    }
   ],
   "source": [
    "nn_output = fully_connected(flattened)\n",
    "nn_output.shape, nn_output"
   ]
  },
  {
   "attachments": {},
   "cell_type": "markdown",
   "metadata": {},
   "source": [
    "Let's create the one-hot encoded matrix for the actual output so we can calculate the loss"
   ]
  },
  {
   "cell_type": "code",
   "execution_count": 134,
   "metadata": {},
   "outputs": [
    {
     "name": "stdout",
     "output_type": "stream",
     "text": [
      "{'positive': 0, 'neutral': 1, 'negative': 2}\n"
     ]
    },
    {
     "data": {
      "text/plain": [
       "(('negative', 'negative', 'positive', 'negative', 'negative'),\n",
       " tensor([2, 2, 0, 2, 2]))"
      ]
     },
     "execution_count": 134,
     "metadata": {},
     "output_type": "execute_result"
    }
   ],
   "source": [
    "index_for_categories = {}\n",
    "category_count = len(unique_categories)\n",
    "for index in range(category_count):\n",
    "    cat = unique_categories[index]\n",
    "    index_for_categories[cat] = index\n",
    "\n",
    "print(index_for_categories)\n",
    "\n",
    "def outputs_as_targets(output_batch):\n",
    "    return torch.Tensor([index_for_categories[c] for c in output_batch]).to(int)\n",
    "\n",
    "batch_target = outputs_as_targets(batch_y)\n",
    "batch_y, batch_target "
   ]
  },
  {
   "attachments": {},
   "cell_type": "markdown",
   "metadata": {},
   "source": [
    "Calculate the loss using cross-entropy loss function"
   ]
  },
  {
   "cell_type": "code",
   "execution_count": 135,
   "metadata": {},
   "outputs": [
    {
     "data": {
      "text/plain": [
       "tensor(1.0984, grad_fn=<NllLossBackward0>)"
      ]
     },
     "execution_count": 135,
     "metadata": {},
     "output_type": "execute_result"
    }
   ],
   "source": [
    "criterion = nn.CrossEntropyLoss()\n",
    "loss = criterion(nn_output, batch_target)\n",
    "loss"
   ]
  },
  {
   "attachments": {},
   "cell_type": "markdown",
   "metadata": {},
   "source": [
    "Apply back propagation"
   ]
  },
  {
   "cell_type": "code",
   "execution_count": 136,
   "metadata": {},
   "outputs": [],
   "source": [
    "import torch.optim as optim\n",
    "\n",
    "def create_optimizer(model, lr=0.1):\n",
    "    return optim.SGD(model.parameters(), lr)\n",
    "\n",
    "optimizers = [create_optimizer(m) for m in [embedding, rnn, fully_connected]]\n",
    "\n",
    "for opt in optimizers:\n",
    "    opt.zero_grad()\n",
    "\n",
    "loss.backward()\n",
    "\n",
    "for opt in optimizers:\n",
    "    opt.step()"
   ]
  },
  {
   "attachments": {},
   "cell_type": "markdown",
   "metadata": {},
   "source": [
    "We just went through a training epoch!! \n",
    "Let's put it all together in a custom pytorch module"
   ]
  },
  {
   "cell_type": "code",
   "execution_count": 137,
   "metadata": {},
   "outputs": [],
   "source": [
    "class SentimentAnalysisModule(torch.nn.Module):\n",
    "    def __init__(self, max_sequences_length, tokens_count, rnn_hidden_layers, output_categories_count):\n",
    "        super().__init__()\n",
    "        embedding_size = int(tokens_count ** 0.25)\n",
    "        \n",
    "        self.embedding = nn.Embedding(tokens_count, embedding_size)\n",
    "        self.rnn = nn.RNN(embedding_size, rnn_hidden_layers, batch_first=True)\n",
    "        self.linear = nn.Linear(max_sequences_length * rnn_hidden_layers, output_categories_count)\n",
    "        self.sigmoid = nn.Sigmoid()\n",
    "    \n",
    "    def forward(self, input):\n",
    "        embeddings = self.embedding(input)\n",
    "        rnn_output, hidden_state = self.rnn(embeddings)\n",
    "        flattened = torch.flatten(rnn_output, start_dim=1)\n",
    "        output = self.linear(flattened)\n",
    "        return self.sigmoid(output)"
   ]
  },
  {
   "attachments": {},
   "cell_type": "markdown",
   "metadata": {},
   "source": [
    "Prepare our dataloaders"
   ]
  },
  {
   "cell_type": "code",
   "execution_count": 158,
   "metadata": {},
   "outputs": [
    {
     "data": {
      "text/plain": [
       "torch.Size([50, 24])"
      ]
     },
     "execution_count": 158,
     "metadata": {},
     "output_type": "execute_result"
    }
   ],
   "source": [
    "all_transformed_data = [transform_raw_data(row) for row in inputs]\n",
    "max_token_length = max([len(i.split()) for i in all_transformed_data])\n",
    "tokenizer = build_vocabulary(500)\n",
    "all_tokens = raw_data_to_tokens(all_transformed_data, tokenizer, max_token_length, print_transformations=False)\n",
    "\n",
    "categories_as_targets = outputs_as_targets(categories)\n",
    "training_loader, test_loader = get_training_and_test_dataloaders(all_tokens, categories_as_targets,\n",
    "                                                                 training_data_porpotion=0.8,\n",
    "                                                                 batch_size=50)\n",
    "\n",
    "next(iter(training_loader))[0].shape"
   ]
  },
  {
   "cell_type": "code",
   "execution_count": 159,
   "metadata": {},
   "outputs": [],
   "source": [
    "model = SentimentAnalysisModule(max_token_length, tokenizer.num_words + 1, 8, len(unique_categories))\n",
    "\n",
    "criterion = torch.nn.CrossEntropyLoss()\n",
    "optimizer = torch.optim.SGD(model.parameters(), lr=0.5)"
   ]
  },
  {
   "attachments": {},
   "cell_type": "markdown",
   "metadata": {},
   "source": [
    "And train a model"
   ]
  },
  {
   "cell_type": "code",
   "execution_count": 160,
   "metadata": {},
   "outputs": [
    {
     "name": "stdout",
     "output_type": "stream",
     "text": [
      "Epoch=0, avg loss=0.9118995070457458, accuracy=0.6216948628425598, took 1.5335 seconds\n",
      "Epoch=50, avg loss=0.8010596632957458, accuracy=0.7179661393165588, took 0.8455 seconds\n",
      "Epoch=100, avg loss=0.7857857942581177, accuracy=0.7301695346832275, took 0.9346 seconds\n",
      "Epoch=150, avg loss=0.7626714110374451, accuracy=0.7233898639678955, took 0.6461 seconds\n",
      "Epoch=200, avg loss=0.7512521147727966, accuracy=0.7264407277107239, took 0.8109 seconds\n",
      "Epoch=250, avg loss=0.7479326128959656, accuracy=0.7338982820510864, took 1.0220 seconds\n",
      "Epoch=300, avg loss=0.7400116324424744, accuracy=0.7352543473243713, took 0.7798 seconds\n"
     ]
    }
   ],
   "source": [
    "import time\n",
    "\n",
    "num_epochs = 300\n",
    "\n",
    "epoch_indices = []\n",
    "avg_losses = []\n",
    "avg_accuracies = []\n",
    "\n",
    "confusion_mat = torch.zeros(len(unique_categories), len(unique_categories)).to(int)\n",
    "\n",
    "for t in range(num_epochs + 1):\n",
    "    losses = []\n",
    "    tic = time.perf_counter()\n",
    "    for batch_idx, (a_batch_of_X, a_batch_of_y) in enumerate(training_loader):\n",
    "        output = model(a_batch_of_X)\n",
    "\n",
    "        loss = criterion(output, a_batch_of_y)\n",
    "        losses.append(loss.item())\n",
    "    \n",
    "        optimizer.zero_grad()\n",
    "        loss.backward()\n",
    "        optimizer.step()\n",
    "\n",
    "    accuracies = []\n",
    "    for idx, (batch_of_X, batch_of_y) in enumerate(test_loader):\n",
    "        output = model(batch_of_X)\n",
    "\n",
    "        outputs_targets = torch.argmax(output, dim=1)\n",
    "\n",
    "        diff = batch_of_y - outputs_targets\n",
    "        correct = sum(diff == 0)\n",
    "        accuracy =  correct / test_loader.batch_size\n",
    "        accuracies.append(accuracy)\n",
    "\n",
    "        if t != num_epochs:\n",
    "            continue\n",
    "        for i in range(outputs_targets.shape[0]):\n",
    "            confusion_mat[batch_of_y[i].item(), outputs_targets[i].item()] += 1\n",
    "    \n",
    "    toc = time.perf_counter()\n",
    "\n",
    "    epoch_indices.append(t)\n",
    "    avg_loss = torch.mean(torch.Tensor(losses)).item()\n",
    "    avg_acc = torch.mean(torch.Tensor(accuracies)).item()\n",
    "\n",
    "    avg_losses.append(avg_loss)\n",
    "    avg_accuracies.append(avg_acc)\n",
    "    if t % 50 == 0:\n",
    "        print(\"Epoch={}, avg loss={}, accuracy={}, took {:0.4f} seconds\".format(t, avg_loss, avg_acc, toc - tic))"
   ]
  },
  {
   "attachments": {},
   "cell_type": "markdown",
   "metadata": {},
   "source": [
    "Show confusion matrix and plot the losses and accuracies "
   ]
  },
  {
   "cell_type": "code",
   "execution_count": 161,
   "metadata": {},
   "outputs": [
    {
     "name": "stdout",
     "output_type": "stream",
     "text": [
      "Confusion matrix\n",
      "tensor([[ 233,   80,  169],\n",
      "        [  43,  290,  278],\n",
      "        [  46,  142, 1646]])\n"
     ]
    }
   ],
   "source": [
    "print(\"Confusion matrix\")\n",
    "print(confusion_mat)"
   ]
  },
  {
   "cell_type": "code",
   "execution_count": 162,
   "metadata": {},
   "outputs": [
    {
     "data": {
      "image/png": "[encoded data removed]",
      "text/plain": [
       "<Figure size 640x480 with 2 Axes>"
      ]
     },
     "metadata": {},
     "output_type": "display_data"
    }
   ],
   "source": [
    "import matplotlib.pyplot as plt\n",
    "\n",
    "ax1 = plt.subplot()\n",
    "l1, = ax1.plot(avg_losses)\n",
    "ax2 = ax1.twinx()\n",
    "l2, = ax2.plot(avg_accuracies, color='orange')\n",
    "\n",
    "plt.legend([l1, l2], [\"loss\", \"accuracy\"])\n",
    "\n",
    "plt.show()"
   ]
  }
 ],
 "metadata": {
  "kernelspec": {
   "display_name": ".venv",
   "language": "python",
   "name": "python3"
  },
  "language_info": {
   "codemirror_mode": {
    "name": "ipython",
    "version": 3
   },
   "file_extension": ".py",
   "mimetype": "text/x-python",
   "name": "python",
   "nbconvert_exporter": "python",
   "pygments_lexer": "ipython3",
   "version": "3.9.6"
  },
  "orig_nbformat": 4,
  "vscode": {
   "interpreter": {
    "hash": "12b84d27cf94b059d9386ef0e125d5acfb36035007af7d95356a9eda8a09a0a6"
   }
  }
 },
 "nbformat": 4,
 "nbformat_minor": 2
}
