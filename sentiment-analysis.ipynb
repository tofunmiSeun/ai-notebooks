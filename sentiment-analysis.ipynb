{
 "cells": [
  {
   "attachments": {},
   "cell_type": "markdown",
   "metadata": {},
   "source": [
    "# Sentiment analysis using recurrent neural networks\n",
    "One of the things I find fascinating about applying machine learning algorithms to natural language processing tasks is how you get get a bunch of words that actually mean something, convert them to [a bunch of numbers](), and the computer is able to understand what those numbers represent in the vocabulary of the NLP task at hand.\n",
    "\n",
    "In this notebook, I will use a [recurrent neural network]() to perform [sentiment analysis]() on a given dataset."
   ]
  },
  {
   "attachments": {},
   "cell_type": "markdown",
   "metadata": {},
   "source": [
    "### Recurrent neural networks\n",
    "Recurrent neural networks (RNNs) are suitable for deep learning tasks that take in a sequence of data as input. The individual data in the sequence usually tell a complete story as a whole but may not offer meaningful information standalone. Also, the number of elements in the sequence of data do not need to be fixed for a given ML task as RNNs are very flexible in dealing with variable sizes of input.\n",
    "\n",
    "Good examples of tasks suitable for RNNs are:\n",
    "1. Predicting the price of a stock based on its prices in the last 30 days.\n",
    "2. Predicting the next word in a sentence given preceeding words.\n",
    "3. Speech to text translation"
   ]
  },
  {
   "attachments": {},
   "cell_type": "markdown",
   "metadata": {},
   "source": [
    "### The task at hand\n",
    "Human beings routinely express their pleasure (or displeasure) about particular experiences. It could be whether a movie you watched was good (or not), if your commute to work was pleasant or stressful, if you enjoyed your lunch or if you had a tedious experience getting an insurance company to honour your claim. The question to answer here is \"based on what this person said, do they feel good or feel bad about their experience?\"\n",
    "\n",
    "The goal of sentiment analysis in NLP is to enable a machine answer this question. For example, you want a machine to be able to look at the following sentence\n",
    "\n",
    "> I really enjoyed playing FIFA today\n",
    "\n",
    "and indicate that the user \"felt good\" (or \"felt bad\" or did not feel anything at all) about this.\n",
    "\n",
    "<img src=\"https://vitalflux.com/wp-content/uploads/2021/10/sentiment-analysis-machine-learning-techniques.png\" alt=\"Sentiment analysis\" style=\"width: 500px;\"/>\n"
   ]
  },
  {
   "attachments": {},
   "cell_type": "markdown",
   "metadata": {},
   "source": [
    "### Dataset\n",
    "The [Twitter US airline sentiment](https://www.kaggle.com/datasets/crowdflower/twitter-airline-sentiment?resource=download) dataset will be used for this task."
   ]
  },
  {
   "cell_type": "code",
   "execution_count": 1,
   "metadata": {},
   "outputs": [
    {
     "name": "stdout",
     "output_type": "stream",
     "text": [
      "14640 inputs in the dataset, with categories={'positive', 'neutral', 'negative'}\n"
     ]
    },
    {
     "data": {
      "text/plain": [
       "['@VirginAmerica What @dhepburn said.',\n",
       " \"@VirginAmerica plus you've added commercials to the experience... tacky.\",\n",
       " \"@VirginAmerica I didn't today... Must mean I need to take another trip!\",\n",
       " '@VirginAmerica it\\'s really aggressive to blast obnoxious \"entertainment\" in your guests\\' faces & they have little recourse',\n",
       " \"@VirginAmerica and it's a really big bad thing about it\"]"
      ]
     },
     "execution_count": 1,
     "metadata": {},
     "output_type": "execute_result"
    }
   ],
   "source": [
    "import csv\n",
    "import html\n",
    "\n",
    "csv_file = open(\"twitter-us-airline-sentiment.csv\")\n",
    "csvreader = csv.reader(csv_file)\n",
    "\n",
    "headers = []\n",
    "headers = next(csvreader)\n",
    "\n",
    "sentiment_index = headers.index(\"airline_sentiment\")\n",
    "tweet_index = headers.index(\"text\")\n",
    "\n",
    "inputs = []\n",
    "categories = []\n",
    "data = []\n",
    "for row in csvreader:\n",
    "    sentiment = row[sentiment_index]\n",
    "    text = html.unescape(row[tweet_index])\n",
    "    inputs.append(text)\n",
    "    categories.append(sentiment)\n",
    "\n",
    "print(\"{} inputs in the dataset, with categories={}\".format(len(inputs), set(categories)))\n",
    "inputs[0:5]"
   ]
  },
  {
   "attachments": {},
   "cell_type": "markdown",
   "metadata": {},
   "source": [
    "Split data into training / test data"
   ]
  },
  {
   "cell_type": "code",
   "execution_count": 2,
   "metadata": {},
   "outputs": [
    {
     "name": "stderr",
     "output_type": "stream",
     "text": [
      "/Users/tofunmi/Documents/dev/ai-notebooks/.venv/lib/python3.9/site-packages/tqdm/auto.py:21: TqdmWarning: IProgress not found. Please update jupyter and ipywidgets. See https://ipywidgets.readthedocs.io/en/stable/user_install.html\n",
      "  from .autonotebook import tqdm as notebook_tqdm\n"
     ]
    }
   ],
   "source": [
    "from torch.utils.data import random_split\n",
    "\n",
    "total_dataset_count = len(inputs)\n",
    "train_indices, test_indices = random_split(range(total_dataset_count), [0.7, 0.3])\n",
    "\n",
    "train_X, train_Y = [inputs[idx] for idx in train_indices],  [categories[idx] for idx in train_indices]\n",
    "test_X, test_Y = [inputs[idx] for idx in test_indices],  [categories[idx] for idx in test_indices]"
   ]
  },
  {
   "attachments": {},
   "cell_type": "markdown",
   "metadata": {},
   "source": [
    "Print out some data samples in tabular form"
   ]
  },
  {
   "cell_type": "code",
   "execution_count": 3,
   "metadata": {},
   "outputs": [
    {
     "name": "stdout",
     "output_type": "stream",
     "text": [
      "+---------------------------------------------------+-----------+\n",
      "| Train X                                           | Train Y   |\n",
      "+===================================================+===========+\n",
      "| @AmericanAir it was 1265 coming and next catching | positive  |\n",
      "| 2396 home to DCA. Let's get another great leg too |           |\n",
      "| tonight!                                          |           |\n",
      "+---------------------------------------------------+-----------+\n",
      "| @SouthwestAir wouldn't it be awesome for my first | neutral   |\n",
      "| time flying to be #DestinationDragons?!           |           |\n",
      "+---------------------------------------------------+-----------+\n",
      "| @djevolutionhd As an EP who travels 125K+ miles a | negative  |\n",
      "| yr with @AmericanAir , I would expect more from   |           |\n",
      "| them than this horrible travel experience         |           |\n",
      "+---------------------------------------------------+-----------+\n",
      "+---------------------------------------------------+----------+\n",
      "| Test X                                            | Test Y   |\n",
      "+===================================================+==========+\n",
      "| @united I see. Thanks for explaining.             | positive |\n",
      "+---------------------------------------------------+----------+\n",
      "| @USAirways I’ll do that in addition to reviewing  | negative |\n",
      "| on my blog. Your agents were pleasant but the     |          |\n",
      "| experience was less than :/                       |          |\n",
      "+---------------------------------------------------+----------+\n",
      "| @SouthwestAir is my favorite airlines. I've never | positive |\n",
      "| had issues with them. Plus there crew is          |          |\n",
      "| entertaining.                                     |          |\n",
      "+---------------------------------------------------+----------+\n"
     ]
    }
   ],
   "source": [
    "from tabulate import tabulate\n",
    "\n",
    "def print_in_tabular_form(headers, body): \n",
    "    entry_count = len(body[0])\n",
    "    col_count = len(headers)\n",
    "    tabular_data = [[column[index] for column in body] for index in range(entry_count)]\n",
    "    print(tabulate(tabular_data, headers=headers, tablefmt=\"grid\", maxcolwidths=[100 / col_count for idx in range(col_count)]))\n",
    "\n",
    "print_in_tabular_form([\"Train X\", \"Train Y\"], [train_X[0:3], train_Y[0:3]])\n",
    "print_in_tabular_form([\"Test X\", \"Test Y\"], [test_X[0:3], test_Y[0:3]])"
   ]
  },
  {
   "attachments": {},
   "cell_type": "markdown",
   "metadata": {},
   "source": [
    "Pytorch provides the `Dataset` and `Dataloader` classes that we can customize to help us load data in batches"
   ]
  },
  {
   "cell_type": "code",
   "execution_count": 4,
   "metadata": {},
   "outputs": [],
   "source": [
    "from torch.utils.data import Dataset, DataLoader\n",
    "\n",
    "class CustomDataset(Dataset):\n",
    "    def __init__(self, X, y):\n",
    "        self.X = X\n",
    "        self.y = y\n",
    "\n",
    "    def __len__(self):\n",
    "        return len(self.X)\n",
    "    \n",
    "    def __getitem__(self, index):\n",
    "        return self.X[index], self.y[index]\n",
    "\n",
    "def get_training_and_test_dataloaders(X, y, training_data_porpotion=0.7, batch_size=10):\n",
    "    total_dataset_count = len(X)\n",
    "    train_indices, test_indices = random_split(range(total_dataset_count), [training_data_porpotion, 1 - training_data_porpotion])\n",
    "\n",
    "    train_X, train_Y = [X[idx] for idx in train_indices],  [y[idx] for idx in train_indices]\n",
    "    test_X, test_Y = [X[idx] for idx in test_indices],  [y[idx] for idx in test_indices]\n",
    "\n",
    "    training_dataset = CustomDataset(train_X, train_Y)\n",
    "    test_dataset = CustomDataset(test_X, test_Y)\n",
    "\n",
    "    training_dataloader = DataLoader(training_dataset, batch_size=batch_size, shuffle=True)\n",
    "    test_dataloader = DataLoader(test_dataset, batch_size=batch_size, shuffle=False)\n",
    "\n",
    "    return training_dataloader, test_dataloader\n",
    "\n",
    "training_loader, test_loader = get_training_and_test_dataloaders(inputs, categories, batch_size=5)"
   ]
  },
  {
   "attachments": {},
   "cell_type": "markdown",
   "metadata": {},
   "source": [
    "A batch of data looks like this"
   ]
  },
  {
   "cell_type": "code",
   "execution_count": 5,
   "metadata": {},
   "outputs": [
    {
     "data": {
      "text/plain": [
       "[('@SouthwestAir I was trying to find airfare for my family.  Your prices are ridiculous!  Almost $1000 more than @USAirways. #notmadeofmoney',\n",
       "  \"“@JetBlue: Our fleet's on fleek. http://t.co/7XMaV13G2W” http://t.co/Ela7TNtcIR\",\n",
       "  \"@JetBlue Oh that totally looks on par with @AmericanAir's Admirals Club; any way you can slide us a couple passes? ;)\",\n",
       "  \"@JetBlue thanks! I'll do it.\",\n",
       "  '@SouthwestAir tried online and told I must call b/c of modifications to my reservation. Been on hold for almost 2 hours.'),\n",
       " ('negative', 'neutral', 'positive', 'positive', 'negative')]"
      ]
     },
     "execution_count": 5,
     "metadata": {},
     "output_type": "execute_result"
    }
   ],
   "source": [
    "next(iter(training_loader))"
   ]
  },
  {
   "attachments": {},
   "cell_type": "markdown",
   "metadata": {},
   "source": [
    "### Data pre-processing in NLP"
   ]
  },
  {
   "attachments": {},
   "cell_type": "markdown",
   "metadata": {},
   "source": [
    "Before we get to the part where we convert a piece of text into \"a bunch of numbers\", we need to make sure our text data is transformed to contain only useful information/signals that are relevant for the task at hand. "
   ]
  },
  {
   "attachments": {},
   "cell_type": "markdown",
   "metadata": {},
   "source": [
    "#### Data cleaning"
   ]
  },
  {
   "attachments": {},
   "cell_type": "markdown",
   "metadata": {},
   "source": [
    "All of the transformation / pre-processing steps applied to raw text data to make it suitable NLP tasks is generally known as **data cleaning**.\n",
    "\n",
    "The combination of data cleaning techniques to apply usually depend on the task at hand. One thing ML engineers like to do is experiment to find what set of steps give the best performance for a given NLP model. "
   ]
  },
  {
   "attachments": {},
   "cell_type": "markdown",
   "metadata": {},
   "source": [
    "#### Transforming our input data"
   ]
  },
  {
   "attachments": {},
   "cell_type": "markdown",
   "metadata": {},
   "source": [
    "From inspecting the a subset of the input data, I want to perform the following data transformation steps\n",
    "1. Transform all words to lower cases\n",
    "2. Remove some parts of the input text\n",
    "    1. Handles - (words that begin with \"@\")\n",
    "    2. Links\n",
    "3. Remove hash symbols in front of words\n",
    "4. Replace known word breaks with spaces\n",
    "5. Removing stop words - I am using the `spacy` NLP library to remove common occuring stop words.\n"
   ]
  },
  {
   "cell_type": "code",
   "execution_count": 6,
   "metadata": {},
   "outputs": [
    {
     "name": "stderr",
     "output_type": "stream",
     "text": [
      "2023-03-29 22:37:51.483341: I tensorflow/core/platform/cpu_feature_guard.cc:193] This TensorFlow binary is optimized with oneAPI Deep Neural Network Library (oneDNN) to use the following CPU instructions in performance-critical operations:  AVX2 FMA\n",
      "To enable them in other operations, rebuild TensorFlow with the appropriate compiler flags.\n"
     ]
    }
   ],
   "source": [
    "from spacy.lang.en.stop_words import STOP_WORDS\n",
    "\n",
    "\n",
    "def replace_known_word_breaks(text):\n",
    "    return text.replace(\"...\", \", \").replace(\"\\n\", \" \")\n",
    "\n",
    "def transform_raw_data(text):\n",
    "    text = text.lower()\n",
    "\n",
    "    text = replace_known_word_breaks(text)\n",
    "\n",
    "    processed = []\n",
    "    for word in text.split():\n",
    "        if word.startswith('@') or word.startswith('http'):\n",
    "            continue\n",
    "\n",
    "        if word in STOP_WORDS:\n",
    "            continue\n",
    "\n",
    "        if word.startswith('#'):\n",
    "            word = word[1:]\n",
    "\n",
    "        processed.append(word)\n",
    "\n",
    "    return \" \".join(processed)\n"
   ]
  },
  {
   "attachments": {},
   "cell_type": "markdown",
   "metadata": {},
   "source": [
    "Let's test our transformation"
   ]
  },
  {
   "cell_type": "code",
   "execution_count": 7,
   "metadata": {},
   "outputs": [
    {
     "name": "stdout",
     "output_type": "stream",
     "text": [
      "+----------------------------------------------------+----------------------------------------------------+\n",
      "| Original                                           | Transformed                                        |\n",
      "+====================================================+====================================================+\n",
      "| @USAirways after pleading with car service to stay | pleading car service stay 3 hrs. past pick left    |\n",
      "| 3 hrs. past pick up they left me and my family but | family it's ok water crackers!                     |\n",
      "| it's ok i have water and crackers!                 |                                                    |\n",
      "+----------------------------------------------------+----------------------------------------------------+\n",
      "| It really is nice, though. The snack fridge…that   | nice, though. snack fridge…that stuff out, like    |\n",
      "| you can just get up and take stuff out, like a     | dorm common room, genius.                          |\n",
      "| dorm common room, is genius. @JetBlue              |                                                    |\n",
      "+----------------------------------------------------+----------------------------------------------------+\n",
      "| @united You really should clean the food and       | clean food coffee stains area seats new passengers |\n",
      "| coffee stains off of the area around the seats     | come aboard. gross!                                |\n",
      "| when new passengers come aboard. Gross!            |                                                    |\n",
      "+----------------------------------------------------+----------------------------------------------------+\n",
      "| @united after waiting for over an hour we finally  | waiting hour finally board airplane find           |\n",
      "| board the airplane only to find out we have to     | maintenance. plane cold.😡                         |\n",
      "| call maintenance. And this plane is cold.😡        |                                                    |\n",
      "+----------------------------------------------------+----------------------------------------------------+\n",
      "| @JetBlue sitting on the plane in JFK waiting to    | sitting plane jfk waiting doors open catering      |\n",
      "| take off doors are open catering is stocking up we | stocking delayed couldn't nicer                    |\n",
      "| are delayed but they couldn't be nicer             |                                                    |\n",
      "+----------------------------------------------------+----------------------------------------------------+\n"
     ]
    }
   ],
   "source": [
    "batch_X, batch_y = next(iter(training_loader))\n",
    "transformed_data = [transform_raw_data(row) for row in batch_X]\n",
    "print_in_tabular_form([\"Original\", \"Transformed\"], [batch_X, transformed_data])"
   ]
  },
  {
   "attachments": {},
   "cell_type": "markdown",
   "metadata": {},
   "source": [
    "#### Vocabularies & Tokenization in NLP"
   ]
  },
  {
   "attachments": {},
   "cell_type": "markdown",
   "metadata": {},
   "source": [
    "Applying one or a combination of data cleaning steps above on our text data moves us closer to being able to feed our dataset into a neural network. Once we manage to clean all of the data we plan to use to train the NLP model (generally refered to as our [text corpus]()), the unique sets of words across the transformed data refers to our **vocabulary**.\n",
    "Due to the high [dimensionality]() of text data, we **rarely feed all** the unique words encountered in our vocabulary to the neural network. We usually choose a poportion of them.\n",
    "\n",
    "One popular way of building a vocabulary is to\n",
    "1. Define how many words or what porpotion of unique words from your text corpus do you want in your vocabulary (let's say the number is represented by **n**).\n",
    "2. Count the occurence of each word in the text corpus and sort from most occuring to least frequently occuring\n",
    "3. Choose the **n** most frequently occuring tokens and use that as your vocabulary.\n",
    "\n",
    "In the example below, I will show how to build a custom vocabulary"
   ]
  },
  {
   "attachments": {},
   "cell_type": "markdown",
   "metadata": {},
   "source": [
    "A piece of text -> A set of tokens (words that may mean something....they are usually present in the vocabulary)\n",
    "1. build vocabulary\n",
    "2. Convert piece to text to set of tokens (using the vocabulary)\n",
    "- A unique set of words that best fit the NLP task you are trying to do.\n",
    "- Vocabulary you need depends on the task at hand\n",
    "- Vocabulary developed is usually gotten from the text corpus\n",
    "- Vocabulary can be inherited\n",
    "- OOV words\n",
    "- Using a sentence example."
   ]
  },
  {
   "attachments": {},
   "cell_type": "markdown",
   "metadata": {},
   "source": [
    "#### Tokenizing the transformations"
   ]
  },
  {
   "cell_type": "code",
   "execution_count": 8,
   "metadata": {},
   "outputs": [
    {
     "name": "stdout",
     "output_type": "stream",
     "text": [
      "13719 unique words\n",
      "+----------------------------------------------------+---------------------------------------------------+\n",
      "| Text                                               | Tokens                                            |\n",
      "+====================================================+===================================================+\n",
      "| pleading car service stay 3 hrs. past pick left    | [1, 368, 5, 386, 30, 86, 360, 471, 118, 281, 23,  |\n",
      "| family it's ok water crackers!                     | 219, 726, 1]                                      |\n",
      "+----------------------------------------------------+---------------------------------------------------+\n",
      "| nice, though. snack fridge…that stuff out, like    | [171, 584, 1836, 1, 889, 179, 28, 1, 1, 501, 1]   |\n",
      "| dorm common room, genius.                          |                                                   |\n",
      "+----------------------------------------------------+---------------------------------------------------+\n",
      "| clean food coffee stains area seats new passengers | [1415, 318, 1128, 1, 750, 94, 65, 107, 197, 1, 1] |\n",
      "| come aboard. gross!                                |                                                   |\n",
      "+----------------------------------------------------+---------------------------------------------------+\n",
      "| waiting hour finally board airplane find           | [35, 24, 180, 204, 932, 138, 465, 14, 662, 1842]  |\n",
      "| maintenance. plane cold.😡                         |                                                   |\n",
      "+----------------------------------------------------+---------------------------------------------------+\n",
      "| sitting plane jfk waiting doors open catering      | [101, 14, 97, 35, 1644, 244, 1064, 1, 17, 253, 1] |\n",
      "| stocking delayed couldn't nicer                    |                                                   |\n",
      "+----------------------------------------------------+---------------------------------------------------+\n"
     ]
    }
   ],
   "source": [
    "from keras.preprocessing.text import Tokenizer\n",
    "\n",
    "def build_vocabulary(token_size=2000):\n",
    "    # Create a tokenizer and fit it on the texts\n",
    "    transformed_data = [transform_raw_data(row) for row in inputs]\n",
    "    tokenizer = Tokenizer(num_words=token_size, oov_token='OOV')\n",
    "    tokenizer.fit_on_texts(transformed_data)\n",
    "    return tokenizer\n",
    "\n",
    "tokenizer = build_vocabulary()\n",
    "print(\"{} unique words\".format(len(tokenizer.word_counts)))\n",
    "\n",
    "tokens = tokenizer.texts_to_sequences(transformed_data)\n",
    "print_in_tabular_form([\"Text\", \"Tokens\"], [transformed_data[0:5], tokens[0:5]])"
   ]
  },
  {
   "attachments": {},
   "cell_type": "markdown",
   "metadata": {},
   "source": [
    "Pad the tokens with '0' so the tokens can be represented as a matrix and convert to a tensor."
   ]
  },
  {
   "cell_type": "code",
   "execution_count": 9,
   "metadata": {},
   "outputs": [
    {
     "data": {
      "text/plain": [
       "(torch.Size([5, 14]),\n",
       " tensor([  1, 368,   5, 386,  30,  86, 360, 471, 118, 281,  23, 219, 726,   1],\n",
       "        dtype=torch.int32))"
      ]
     },
     "execution_count": 9,
     "metadata": {},
     "output_type": "execute_result"
    }
   ],
   "source": [
    "import torch\n",
    "import tensorflow as tf\n",
    "\n",
    "padded_tokens = torch.Tensor(tf.keras.utils.pad_sequences(tokens, padding='post')).to(torch.int)\n",
    "padded_tokens.shape, padded_tokens[0]"
   ]
  },
  {
   "attachments": {},
   "cell_type": "markdown",
   "metadata": {},
   "source": [
    "Let's create a function to transform a batch of input data to a matrix of padded tokens"
   ]
  },
  {
   "cell_type": "code",
   "execution_count": 10,
   "metadata": {},
   "outputs": [],
   "source": [
    "max_words_count_in_single_dataset = max([len(i.split()) for i in inputs])\n",
    "\n",
    "def raw_data_to_tokens(batch_of_X, max_token_length = 20, print_transformations=True):\n",
    "    transformed_data = [transform_raw_data(row) for row in batch_of_X]\n",
    "    tokens = tokenizer.texts_to_sequences(transformed_data)\n",
    "    padded_tokens = tf.keras.utils.pad_sequences(tokens, maxlen=max_token_length, padding='post')\n",
    "    if print_transformations:\n",
    "        print_in_tabular_form([\"Raw Text\", \"Transformed\", \"Tokens\", \"Padded Tokens\"], [batch_of_X, transformed_data, tokens, padded_tokens])\n",
    "    return torch.Tensor(padded_tokens).to(int)"
   ]
  },
  {
   "attachments": {},
   "cell_type": "markdown",
   "metadata": {},
   "source": [
    "Create embedding matrix for all the tokens, including the padding token '0'"
   ]
  },
  {
   "cell_type": "code",
   "execution_count": 11,
   "metadata": {},
   "outputs": [],
   "source": [
    "import torch.nn as nn\n",
    "\n",
    "tokens_count = tokenizer.num_words\n",
    "embedding_size = int(tokens_count ** 0.25)\n",
    "# Adding 1 to token_size to cater for padding value '0'\n",
    "embedding = nn.Embedding(tokens_count + 1, embedding_size)"
   ]
  },
  {
   "attachments": {},
   "cell_type": "markdown",
   "metadata": {},
   "source": [
    "Given a list of tokens, define a function that will return the embeddings of a batch of dataset"
   ]
  },
  {
   "cell_type": "code",
   "execution_count": 12,
   "metadata": {},
   "outputs": [
    {
     "data": {
      "text/plain": [
       "torch.Size([5, 14, 6])"
      ]
     },
     "execution_count": 12,
     "metadata": {},
     "output_type": "execute_result"
    }
   ],
   "source": [
    "embeddings_batch = embedding(padded_tokens)\n",
    "embeddings_batch.shape"
   ]
  },
  {
   "attachments": {},
   "cell_type": "markdown",
   "metadata": {},
   "source": [
    "Define a RNN module"
   ]
  },
  {
   "cell_type": "code",
   "execution_count": 13,
   "metadata": {},
   "outputs": [],
   "source": [
    "hidden_layers = 3\n",
    "rnn = nn.RNN(embedding_size, hidden_layers, batch_first=True)"
   ]
  },
  {
   "cell_type": "code",
   "execution_count": 14,
   "metadata": {},
   "outputs": [
    {
     "data": {
      "text/plain": [
       "torch.Size([5, 14, 3])"
      ]
     },
     "execution_count": 14,
     "metadata": {},
     "output_type": "execute_result"
    }
   ],
   "source": [
    "def compute(rnn, embeddings_batch):\n",
    "    output, hidden_state = rnn(embeddings_batch)\n",
    "    return output\n",
    "\n",
    "rnn_output = compute(rnn, embeddings_batch)\n",
    "rnn_output.shape"
   ]
  },
  {
   "attachments": {},
   "cell_type": "markdown",
   "metadata": {},
   "source": [
    "Flatten the output on the last dimension so we can pass it to a fully connected NN in 2D shape"
   ]
  },
  {
   "cell_type": "code",
   "execution_count": 15,
   "metadata": {},
   "outputs": [
    {
     "data": {
      "text/plain": [
       "torch.Size([5, 42])"
      ]
     },
     "execution_count": 15,
     "metadata": {},
     "output_type": "execute_result"
    }
   ],
   "source": [
    "flattened = torch.flatten(rnn_output, start_dim=1)\n",
    "flattened.shape"
   ]
  },
  {
   "attachments": {},
   "cell_type": "markdown",
   "metadata": {},
   "source": [
    "Define a fully connected NN that takes in the flattened output"
   ]
  },
  {
   "cell_type": "code",
   "execution_count": 16,
   "metadata": {},
   "outputs": [],
   "source": [
    "input_layer_size = hidden_layers * padded_tokens.shape[1]\n",
    "unique_categories = list(set(categories))\n",
    "fully_connected = nn.Linear(input_layer_size,len(unique_categories))"
   ]
  },
  {
   "cell_type": "code",
   "execution_count": 17,
   "metadata": {},
   "outputs": [
    {
     "data": {
      "text/plain": [
       "(torch.Size([5, 3]),\n",
       " tensor([[ 0.2130,  0.2459, -0.1956],\n",
       "         [ 0.3503,  0.4161, -0.2249],\n",
       "         [-0.2374,  0.0560, -0.8311],\n",
       "         [ 0.4580,  0.6936, -0.0708],\n",
       "         [ 0.3917,  0.0892, -0.7552]], grad_fn=<AddmmBackward0>))"
      ]
     },
     "execution_count": 17,
     "metadata": {},
     "output_type": "execute_result"
    }
   ],
   "source": [
    "nn_output = fully_connected(flattened)\n",
    "nn_output.shape, nn_output"
   ]
  },
  {
   "attachments": {},
   "cell_type": "markdown",
   "metadata": {},
   "source": [
    "Let's create the one-hot encoded matrix for the actual output so we can calculate the loss"
   ]
  },
  {
   "cell_type": "code",
   "execution_count": 18,
   "metadata": {},
   "outputs": [
    {
     "name": "stdout",
     "output_type": "stream",
     "text": [
      "{'positive': 0, 'neutral': 1, 'negative': 2}\n"
     ]
    },
    {
     "data": {
      "text/plain": [
       "(('negative', 'positive', 'negative', 'negative', 'negative'),\n",
       " tensor([2, 0, 2, 2, 2]))"
      ]
     },
     "execution_count": 18,
     "metadata": {},
     "output_type": "execute_result"
    }
   ],
   "source": [
    "index_for_categories = {}\n",
    "category_count = len(unique_categories)\n",
    "for index in range(category_count):\n",
    "    cat = unique_categories[index]\n",
    "    index_for_categories[cat] = index\n",
    "\n",
    "print(index_for_categories)\n",
    "\n",
    "def outputs_as_targets(output_batch):\n",
    "    return torch.Tensor([index_for_categories[c] for c in output_batch]).to(int)\n",
    "\n",
    "batch_target = outputs_as_targets(batch_y)\n",
    "batch_y, batch_target "
   ]
  },
  {
   "attachments": {},
   "cell_type": "markdown",
   "metadata": {},
   "source": [
    "Calculate the loss using cross-entropy loss function"
   ]
  },
  {
   "cell_type": "code",
   "execution_count": 19,
   "metadata": {},
   "outputs": [
    {
     "data": {
      "text/plain": [
       "tensor(1.4940, grad_fn=<NllLossBackward0>)"
      ]
     },
     "execution_count": 19,
     "metadata": {},
     "output_type": "execute_result"
    }
   ],
   "source": [
    "criterion = nn.CrossEntropyLoss()\n",
    "loss = criterion(nn_output, batch_target)\n",
    "loss"
   ]
  },
  {
   "attachments": {},
   "cell_type": "markdown",
   "metadata": {},
   "source": [
    "Apply back propagation"
   ]
  },
  {
   "cell_type": "code",
   "execution_count": 20,
   "metadata": {},
   "outputs": [],
   "source": [
    "import torch.optim as optim\n",
    "\n",
    "def create_optimizer(model, lr=0.1):\n",
    "    return optim.SGD(model.parameters(), lr)\n",
    "\n",
    "optimizers = [create_optimizer(m) for m in [embedding, rnn, fully_connected]]\n",
    "\n",
    "for opt in optimizers:\n",
    "    opt.zero_grad()\n",
    "\n",
    "loss.backward()\n",
    "\n",
    "for opt in optimizers:\n",
    "    opt.step()"
   ]
  },
  {
   "attachments": {},
   "cell_type": "markdown",
   "metadata": {},
   "source": [
    "We just went through a training epoch!! \n",
    "Let's put it all together in a custom pytorch module"
   ]
  },
  {
   "cell_type": "code",
   "execution_count": 21,
   "metadata": {},
   "outputs": [],
   "source": [
    "class SentimentAnalysisModule(torch.nn.Module):\n",
    "    def __init__(self, max_sequences_length, tokens_count, rnn_hidden_layers, output_categories_count):\n",
    "        super().__init__()\n",
    "        embedding_size = int(tokens_count ** 0.25)\n",
    "        \n",
    "        self.embedding = nn.Embedding(tokens_count, embedding_size)\n",
    "        self.rnn = nn.RNN(embedding_size, rnn_hidden_layers, batch_first=True)\n",
    "        self.linear = nn.Linear(max_sequences_length * rnn_hidden_layers, output_categories_count)\n",
    "        self.sigmoid = nn.Sigmoid()\n",
    "    \n",
    "    def forward(self, input):\n",
    "        embeddings = self.embedding(input)\n",
    "        rnn_output, hidden_state = self.rnn(embeddings)\n",
    "        flattened = torch.flatten(rnn_output, start_dim=1)\n",
    "        output = self.linear(flattened)\n",
    "        return self.sigmoid(output)"
   ]
  },
  {
   "attachments": {},
   "cell_type": "markdown",
   "metadata": {},
   "source": [
    "Prepare our dataloaders"
   ]
  },
  {
   "cell_type": "code",
   "execution_count": 52,
   "metadata": {},
   "outputs": [
    {
     "data": {
      "text/plain": [
       "torch.Size([20, 24])"
      ]
     },
     "execution_count": 52,
     "metadata": {},
     "output_type": "execute_result"
    }
   ],
   "source": [
    "all_transformed_data = [transform_raw_data(row) for row in inputs]\n",
    "max_token_length = max([len(i.split()) for i in all_transformed_data])\n",
    "all_tokens = raw_data_to_tokens(all_transformed_data, max_token_length, print_transformations=False)\n",
    "\n",
    "categories_as_targets = outputs_as_targets(categories)\n",
    "training_loader, test_loader = get_training_and_test_dataloaders(all_tokens, categories_as_targets,\n",
    "                                                                 training_data_porpotion=0.7,\n",
    "                                                                 batch_size=20)\n",
    "\n",
    "next(iter(training_loader))[0].shape"
   ]
  },
  {
   "cell_type": "code",
   "execution_count": 53,
   "metadata": {},
   "outputs": [],
   "source": [
    "model = SentimentAnalysisModule(max_token_length, tokens_count + 1, 10, len(unique_categories))\n",
    "\n",
    "criterion = torch.nn.CrossEntropyLoss()\n",
    "optimizer = torch.optim.SGD(model.parameters(), lr=0.5)"
   ]
  },
  {
   "attachments": {},
   "cell_type": "markdown",
   "metadata": {},
   "source": [
    "And train a model"
   ]
  },
  {
   "cell_type": "code",
   "execution_count": 54,
   "metadata": {},
   "outputs": [
    {
     "name": "stdout",
     "output_type": "stream",
     "text": [
      "Epoch=0, avg loss=0.9152730107307434, accuracy=0.6184090971946716, took 2.5876 seconds\n",
      "Epoch=50, avg loss=0.7635761499404907, accuracy=0.709318220615387, took 2.8857 seconds\n",
      "Epoch=100, avg loss=0.7194702625274658, accuracy=0.7070455551147461, took 1.3712 seconds\n",
      "Epoch=150, avg loss=0.7089397311210632, accuracy=0.7115909457206726, took 2.0916 seconds\n",
      "Epoch=200, avg loss=0.6993385553359985, accuracy=0.7054545283317566, took 1.4143 seconds\n",
      "Epoch=250, avg loss=0.7092965841293335, accuracy=0.7034090757369995, took 1.4313 seconds\n",
      "Epoch=300, avg loss=0.7134363055229187, accuracy=0.712045431137085, took 1.5304 seconds\n"
     ]
    },
    {
     "data": {
      "text/plain": [
       "tensor([[ 361.,  134.,  225.],\n",
       "        [ 101.,  417.,  433.],\n",
       "        [  84.,  282., 2355.]])"
      ]
     },
     "execution_count": 54,
     "metadata": {},
     "output_type": "execute_result"
    }
   ],
   "source": [
    "import time\n",
    "\n",
    "num_epochs = 300\n",
    "\n",
    "epoch_indices = []\n",
    "avg_losses = []\n",
    "avg_accuracies = []\n",
    "\n",
    "confusion_mat = torch.zeros(len(unique_categories), len(unique_categories))\n",
    "\n",
    "for t in range(num_epochs + 1):\n",
    "    losses = []\n",
    "    tic = time.perf_counter()\n",
    "    for batch_idx, (a_batch_of_X, a_batch_of_y) in enumerate(training_loader):\n",
    "        output = model(a_batch_of_X)\n",
    "\n",
    "        loss = criterion(output, a_batch_of_y)\n",
    "        losses.append(loss.item())\n",
    "    \n",
    "        optimizer.zero_grad()\n",
    "        loss.backward()\n",
    "        optimizer.step()\n",
    "\n",
    "    accuracies = []\n",
    "    for idx, (batch_of_X, batch_of_y) in enumerate(test_loader):\n",
    "        output = model(batch_of_X)\n",
    "\n",
    "        outputs_targets = torch.argmax(output, dim=1)\n",
    "\n",
    "        diff = batch_of_y - outputs_targets\n",
    "        correct = sum(diff == 0)\n",
    "        accuracy =  correct / test_loader.batch_size\n",
    "        accuracies.append(accuracy)\n",
    "\n",
    "        if t != num_epochs:\n",
    "            continue\n",
    "        for i in range(outputs_targets.shape[0]):\n",
    "            confusion_mat[batch_of_y[i].item(), outputs_targets[i].item()] += 1\n",
    "    \n",
    "    toc = time.perf_counter()\n",
    "\n",
    "    epoch_indices.append(t)\n",
    "    avg_loss = torch.mean(torch.Tensor(losses)).item()\n",
    "    avg_acc = torch.mean(torch.Tensor(accuracies)).item()\n",
    "\n",
    "    avg_losses.append(avg_loss)\n",
    "    avg_accuracies.append(avg_acc)\n",
    "    if t % 50 == 0:\n",
    "        print(\"Epoch={}, avg loss={}, accuracy={}, took {:0.4f} seconds\".format(t, avg_loss, avg_acc, toc - tic))\n",
    "\n",
    "confusion_mat"
   ]
  },
  {
   "attachments": {},
   "cell_type": "markdown",
   "metadata": {},
   "source": [
    "Plot the losses and accuracies "
   ]
  },
  {
   "cell_type": "code",
   "execution_count": 56,
   "metadata": {},
   "outputs": [
    {
     "data": {
      "image/png": "[encoded data removed]",
      "text/plain": [
       "<Figure size 640x480 with 2 Axes>"
      ]
     },
     "metadata": {},
     "output_type": "display_data"
    }
   ],
   "source": [
    "import matplotlib.pyplot as plt\n",
    "\n",
    "ax1 = plt.subplot()\n",
    "l1, = ax1.plot(avg_losses)\n",
    "ax2 = ax1.twinx()\n",
    "l2, = ax2.plot(avg_accuracies, color='orange')\n",
    "\n",
    "plt.legend([l1, l2], [\"loss\", \"accuracy\"])\n",
    "\n",
    "plt.show()"
   ]
  }
 ],
 "metadata": {
  "kernelspec": {
   "display_name": ".venv",
   "language": "python",
   "name": "python3"
  },
  "language_info": {
   "codemirror_mode": {
    "name": "ipython",
    "version": 3
   },
   "file_extension": ".py",
   "mimetype": "text/x-python",
   "name": "python",
   "nbconvert_exporter": "python",
   "pygments_lexer": "ipython3",
   "version": "3.9.6"
  },
  "orig_nbformat": 4,
  "vscode": {
   "interpreter": {
    "hash": "12b84d27cf94b059d9386ef0e125d5acfb36035007af7d95356a9eda8a09a0a6"
   }
  }
 },
 "nbformat": 4,
 "nbformat_minor": 2
}
