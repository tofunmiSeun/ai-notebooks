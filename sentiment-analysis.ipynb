{
 "cells": [
  {
   "attachments": {},
   "cell_type": "markdown",
   "metadata": {},
   "source": [
    "# Sentiment analysis using recurrent neural networks\n",
    "One of the things I find fascinating about applying Machine Learning algorithms to Natural Language Processing tasks is how you get get a bunch of words that actually mean something, convert them to [a bunch of numbers](), and the computer is able to understand what those numbers represent in the vocabulary of the NLP task at hand.\n",
    "\n",
    "In this notebook, I will attempt to use a [recurrent neural network]() to perform [sentiment analysis]() on a given dataset. The task at hand is as straightforward as NLP classification tasks can be. However, I will spend some time explaining the reasoning behind each data pre-processing step taken to turn the input data (words) into \"a bunch of numbers\"."
   ]
  },
  {
   "attachments": {},
   "cell_type": "markdown",
   "metadata": {},
   "source": [
    "### Recurrent neural networks\n",
    "Recurrent neural networks (RNNs) are suitable for deep learning tasks that take in a sequence of data as input. The individual data in the sequence usually tell a complete story as a whole but may not offer meaningful information standalone. Also, the number of elements in the sequence of data do not need to be fixed for a given ML task as RNNs are very flexible in dealing with variable sizes of input.\n",
    "\n",
    "Good examples of tasks suitable for RNNs are:\n",
    "1. Predicting the price of a stock based on its prices in the last 30 days.\n",
    "2. Predicting the next word in a sentence given preceeding words.\n",
    "3. Speech to text translation"
   ]
  },
  {
   "attachments": {},
   "cell_type": "markdown",
   "metadata": {},
   "source": [
    "### The task at hand\n",
    "Human beings routinely express their pleasure (or displeasure) about particular experiences. It could be whether a movie you watched was good (or not), if your commute to work was pleasant or stressful, if you enjoyed your lunch or if you had a tedious experience getting an insurance company to honour your claim. The question to answer here is \"based on what this person said, do they feel good or feel bad about this experience?\"\n",
    "\n",
    "The goal of sentiment analysis in NLP is to enable a machine answer this question. For example, you want a machine to be able to look at the following sentence\n",
    "\n",
    "> I really enjoyed playing FIFA today\n",
    "\n",
    "and indicate that the user \"felt good\" (or \"felt bad\" or did not feel anything at all) about this.\n",
    "\n",
    "<img src=\"https://vitalflux.com/wp-content/uploads/2021/10/sentiment-analysis-machine-learning-techniques.png\" alt=\"Sentiment analysis\" style=\"width: 500px;\"/>\n"
   ]
  },
  {
   "attachments": {},
   "cell_type": "markdown",
   "metadata": {},
   "source": [
    "### Dataset\n",
    "The [twitter US airline sentiment](https://www.kaggle.com/datasets/crowdflower/twitter-airline-sentiment?resource=download) dataset will be used for this task."
   ]
  },
  {
   "cell_type": "code",
   "execution_count": 4,
   "metadata": {},
   "outputs": [
    {
     "name": "stdout",
     "output_type": "stream",
     "text": [
      "14640 items in the dataset\n"
     ]
    },
    {
     "data": {
      "text/plain": [
       "[('@VirginAmerica What @dhepburn said.', 'neutral'),\n",
       " (\"@VirginAmerica plus you've added commercials to the experience... tacky.\",\n",
       "  'positive'),\n",
       " (\"@VirginAmerica I didn't today... Must mean I need to take another trip!\",\n",
       "  'neutral'),\n",
       " ('@VirginAmerica it\\'s really aggressive to blast obnoxious \"entertainment\" in your guests\\' faces &amp; they have little recourse',\n",
       "  'negative'),\n",
       " (\"@VirginAmerica and it's a really big bad thing about it\", 'negative'),\n",
       " (\"@VirginAmerica seriously would pay $30 a flight for seats that didn't have this playing.\\nit's really the only bad thing about flying VA\",\n",
       "  'negative'),\n",
       " ('@VirginAmerica yes, nearly every time I fly VX this “ear worm” won’t go away :)',\n",
       "  'positive'),\n",
       " ('@VirginAmerica Really missed a prime opportunity for Men Without Hats parody, there. https://t.co/mWpG7grEZP',\n",
       "  'neutral'),\n",
       " (\"@virginamerica Well, I didn't…but NOW I DO! :-D\", 'positive'),\n",
       " (\"@VirginAmerica it was amazing, and arrived an hour early. You're too good to me.\",\n",
       "  'positive')]"
      ]
     },
     "execution_count": 4,
     "metadata": {},
     "output_type": "execute_result"
    }
   ],
   "source": [
    "import csv\n",
    "\n",
    "csv_file = open(\"twitter-us-airline-sentiment.csv\")\n",
    "csvreader = csv.reader(csv_file)\n",
    "\n",
    "headers = []\n",
    "headers = next(csvreader)\n",
    "\n",
    "sentiment_index = headers.index(\"airline_sentiment\")\n",
    "tweet_index = headers.index(\"text\")\n",
    "\n",
    "dataset = []\n",
    "for row in csvreader:\n",
    "    sentiment = row[sentiment_index]\n",
    "    text = row[tweet_index]\n",
    "    dataset.append((text, sentiment))\n",
    "\n",
    "print(\"{} items in the dataset\".format(len(dataset)))\n",
    "dataset[0:10]"
   ]
  }
 ],
 "metadata": {
  "kernelspec": {
   "display_name": ".venv",
   "language": "python",
   "name": "python3"
  },
  "language_info": {
   "codemirror_mode": {
    "name": "ipython",
    "version": 3
   },
   "file_extension": ".py",
   "mimetype": "text/x-python",
   "name": "python",
   "nbconvert_exporter": "python",
   "pygments_lexer": "ipython3",
   "version": "3.9.6"
  },
  "orig_nbformat": 4,
  "vscode": {
   "interpreter": {
    "hash": "12b84d27cf94b059d9386ef0e125d5acfb36035007af7d95356a9eda8a09a0a6"
   }
  }
 },
 "nbformat": 4,
 "nbformat_minor": 2
}
